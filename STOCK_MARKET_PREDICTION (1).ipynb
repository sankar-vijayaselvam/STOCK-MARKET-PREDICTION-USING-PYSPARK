{
  "nbformat": 4,
  "nbformat_minor": 0,
  "metadata": {
    "colab": {
      "provenance": []
    },
    "kernelspec": {
      "name": "python3",
      "display_name": "Python 3"
    },
    "language_info": {
      "name": "python"
    }
  },
  "cells": [
    {
      "cell_type": "code",
      "execution_count": 1,
      "metadata": {
        "colab": {
          "base_uri": "https://localhost:8080/"
        },
        "id": "jxwMu9mkXpaf",
        "outputId": "1fb322c3-bd50-4621-dfb0-88f7a53baccd"
      },
      "outputs": [
        {
          "output_type": "stream",
          "name": "stdout",
          "text": [
            "Collecting pyspark\n",
            "  Downloading pyspark-3.5.0.tar.gz (316.9 MB)\n",
            "\u001b[2K     \u001b[90m━━━━━━━━━━━━━━━━━━━━━━━━━━━━━━━━━━━━━━━━\u001b[0m \u001b[32m316.9/316.9 MB\u001b[0m \u001b[31m2.6 MB/s\u001b[0m eta \u001b[36m0:00:00\u001b[0m\n",
            "\u001b[?25h  Preparing metadata (setup.py) ... \u001b[?25l\u001b[?25hdone\n",
            "Requirement already satisfied: py4j==0.10.9.7 in /usr/local/lib/python3.10/dist-packages (from pyspark) (0.10.9.7)\n",
            "Building wheels for collected packages: pyspark\n",
            "  Building wheel for pyspark (setup.py) ... \u001b[?25l\u001b[?25hdone\n",
            "  Created wheel for pyspark: filename=pyspark-3.5.0-py2.py3-none-any.whl size=317425344 sha256=17f7e92ccf7e53a95cdef42ef8745ed68cacaf7e626d60bd8ed705d5e2bad516\n",
            "  Stored in directory: /root/.cache/pip/wheels/41/4e/10/c2cf2467f71c678cfc8a6b9ac9241e5e44a01940da8fbb17fc\n",
            "Successfully built pyspark\n",
            "Installing collected packages: pyspark\n",
            "Successfully installed pyspark-3.5.0\n"
          ]
        }
      ],
      "source": [
        "!pip install pyspark"
      ]
    },
    {
      "cell_type": "code",
      "source": [
        "from pyspark.sql import SparkSession\n",
        "\n",
        "# Create a Spark session\n",
        "spark = SparkSession.builder.appName(\"MLExample\").getOrCreate()\n",
        "\n",
        "# Load your data into a Spark DataFrame\n",
        "df = spark.read.csv('/content/bda.csv', header=True, inferSchema=True)\n",
        "\n"
      ],
      "metadata": {
        "id": "T3zgZ-bHXuYj"
      },
      "execution_count": null,
      "outputs": []
    },
    {
      "cell_type": "code",
      "source": [
        "df.show()"
      ],
      "metadata": {
        "colab": {
          "base_uri": "https://localhost:8080/"
        },
        "id": "DNi7bYgcX5QW",
        "outputId": "cffe5960-5bdc-4849-e6a6-5e33783f772b"
      },
      "execution_count": null,
      "outputs": [
        {
          "output_type": "stream",
          "name": "stdout",
          "text": [
            "+---+------+-------------------+-------+-------+--------+-------+--------+-----------+-----------+-----------+-----------+---------+-------+-----------+\n",
            "|_c0|symbol|               date|  close|   high|     low|   open|  volume|   adjClose|    adjHigh|     adjLow|    adjOpen|adjVolume|divCash|splitFactor|\n",
            "+---+------+-------------------+-------+-------+--------+-------+--------+-----------+-----------+-----------+-----------+---------+-------+-----------+\n",
            "|  0|  AAPL|2015-05-27 00:00:00|132.045| 132.26|  130.05| 130.34|45833246|121.6825575|121.8806851|119.8441183|120.1113601| 45833246|    0.0|          1|\n",
            "|  1|  AAPL|2015-05-28 00:00:00| 131.78| 131.95|   131.1| 131.86|30733309|121.4383538|121.5950128|120.8117179|121.5120757| 30733309|    0.0|          1|\n",
            "|  2|  AAPL|2015-05-29 00:00:00| 130.28| 131.45|   129.9| 131.23|50884452|120.0560687|121.1342511|119.7058898| 120.931516| 50884452|    0.0|          1|\n",
            "|  3|  AAPL|2015-06-01 00:00:00|130.535| 131.39|  130.05|  131.2|32112797|120.2910572|121.0789597|119.8441183|120.9038703| 32112797|    0.0|          1|\n",
            "|  4|  AAPL|2015-06-02 00:00:00| 129.96|130.655|  129.32| 129.86|33667627|119.7611812|  120.40164|119.1714063|119.6690289| 33667627|    0.0|          1|\n",
            "|  5|  AAPL|2015-06-03 00:00:00| 130.12| 130.94|   129.9| 130.66|30983542| 119.908625|120.6642742|119.7058898|120.4062476| 30983542|    0.0|          1|\n",
            "|  6|  AAPL|2015-06-04 00:00:00| 129.36| 130.58|  128.91| 129.58|38450118|119.2082672|120.3325257|118.7935817|119.4110023| 38450118|    0.0|          1|\n",
            "|  7|  AAPL|2015-06-05 00:00:00| 128.65| 129.69|  128.36|  129.5|35626800|118.5539856|119.5123699|118.2867438|119.3372805| 35626800|    0.0|          1|\n",
            "|  8|  AAPL|2015-06-08 00:00:00|  127.8| 129.21|  126.83|  128.9|52674786|117.7706907|119.0700387| 116.876813|118.7843664| 52674786|    0.0|          1|\n",
            "|  9|  AAPL|2015-06-09 00:00:00| 127.42| 128.08|  125.62|  126.7|56075420|117.4205118|118.0287172|115.7617697| 116.757015| 56075420|    0.0|          1|\n",
            "| 10|  AAPL|2015-06-10 00:00:00| 128.88| 129.34|  127.85| 127.92|39087250| 118.765936|119.1898367|117.8167669|117.8812735| 39087250|    0.0|          1|\n",
            "| 11|  AAPL|2015-06-11 00:00:00| 128.59| 130.18| 128.475| 129.18|35390887|118.4986942|119.9639164| 118.392719| 119.042393| 35390887|    0.0|          1|\n",
            "| 12|  AAPL|2015-06-12 00:00:00| 127.17| 128.33|  127.11|128.185|36886246|117.1901309|118.2590981|117.1348395|118.1254772| 36886246|    0.0|          1|\n",
            "| 13|  AAPL|2015-06-15 00:00:00| 126.92| 127.24|  125.71|  126.1|43988946|116.9597501|117.2546376|115.8447068|116.2041009| 43988946|    0.0|          1|\n",
            "| 14|  AAPL|2015-06-16 00:00:00|  127.6| 127.85|  126.37| 127.03|31494131| 117.586386|117.8167669|116.4529122|117.0611177| 31494131|    0.0|          1|\n",
            "| 15|  AAPL|2015-06-17 00:00:00|  127.3| 127.88|  126.74| 127.72|32918071| 117.309929|117.8444126|116.7938759|117.6969688| 32918071|    0.0|          1|\n",
            "| 16|  AAPL|2015-06-18 00:00:00| 127.88| 128.31|  127.22| 127.23|35407220|117.8444126|118.2406676|117.2362071|117.2454224| 35407220|    0.0|          1|\n",
            "| 17|  AAPL|2015-06-19 00:00:00|  126.6| 127.82|   126.4| 127.71|54716887|116.6648626|117.7891212|116.4805579|117.6877536| 54716887|    0.0|          1|\n",
            "| 18|  AAPL|2015-06-22 00:00:00| 127.61| 128.06|  127.08| 127.49|34039345|117.5956012|118.0102868|117.1071938|117.4850184| 34039345|    0.0|          1|\n",
            "| 19|  AAPL|2015-06-23 00:00:00| 127.03| 127.61|126.8792| 127.48|30268863|117.0611177|117.5956012|116.9221519|117.4758032| 30268863|    0.0|          1|\n",
            "+---+------+-------------------+-------+-------+--------+-------+--------+-----------+-----------+-----------+-----------+---------+-------+-----------+\n",
            "only showing top 20 rows\n",
            "\n"
          ]
        }
      ]
    },
    {
      "cell_type": "code",
      "source": [
        "from pyspark.sql.functions import mean\n",
        "\n",
        "mean_value = df.select(mean(df['adjHigh'])).collect()[0][0]\n",
        "df = df.na.fill(mean_value, subset=['adjHigh'])\n",
        "\n",
        "mean_value1 = df.select(mean(df['adjLow'])).collect()[0][0]\n",
        "df = df.na.fill(mean_value1, subset=['adjLow'])\n",
        "\n",
        "mean_value2 = df.select(mean(df['adjOpen'])).collect()[0][0]\n",
        "df = df.na.fill(mean_value2, subset=['adjOpen'])\n"
      ],
      "metadata": {
        "id": "sKCfJNu0YCEk"
      },
      "execution_count": null,
      "outputs": []
    },
    {
      "cell_type": "code",
      "source": [
        "df.printSchema()\n",
        "df.show(5)\n",
        "df.describe().show()\n"
      ],
      "metadata": {
        "colab": {
          "base_uri": "https://localhost:8080/"
        },
        "id": "_HaqDGhaYEgp",
        "outputId": "45dc100c-d52b-4f39-ed11-4b3d642dd462"
      },
      "execution_count": null,
      "outputs": [
        {
          "output_type": "stream",
          "name": "stdout",
          "text": [
            "root\n",
            " |-- _c0: integer (nullable = true)\n",
            " |-- symbol: string (nullable = true)\n",
            " |-- date: timestamp (nullable = true)\n",
            " |-- close: double (nullable = true)\n",
            " |-- high: double (nullable = true)\n",
            " |-- low: double (nullable = true)\n",
            " |-- open: double (nullable = true)\n",
            " |-- volume: integer (nullable = true)\n",
            " |-- adjClose: double (nullable = true)\n",
            " |-- adjHigh: double (nullable = false)\n",
            " |-- adjLow: double (nullable = false)\n",
            " |-- adjOpen: double (nullable = false)\n",
            " |-- adjVolume: integer (nullable = true)\n",
            " |-- divCash: double (nullable = true)\n",
            " |-- splitFactor: integer (nullable = true)\n",
            "\n",
            "+---+------+-------------------+-------+-------+------+------+--------+-----------+-----------+-----------+-----------+---------+-------+-----------+\n",
            "|_c0|symbol|               date|  close|   high|   low|  open|  volume|   adjClose|    adjHigh|     adjLow|    adjOpen|adjVolume|divCash|splitFactor|\n",
            "+---+------+-------------------+-------+-------+------+------+--------+-----------+-----------+-----------+-----------+---------+-------+-----------+\n",
            "|  0|  AAPL|2015-05-27 00:00:00|132.045| 132.26|130.05|130.34|45833246|121.6825575|121.8806851|119.8441183|120.1113601| 45833246|    0.0|          1|\n",
            "|  1|  AAPL|2015-05-28 00:00:00| 131.78| 131.95| 131.1|131.86|30733309|121.4383538|121.5950128|120.8117179|121.5120757| 30733309|    0.0|          1|\n",
            "|  2|  AAPL|2015-05-29 00:00:00| 130.28| 131.45| 129.9|131.23|50884452|120.0560687|121.1342511|119.7058898| 120.931516| 50884452|    0.0|          1|\n",
            "|  3|  AAPL|2015-06-01 00:00:00|130.535| 131.39|130.05| 131.2|32112797|120.2910572|121.0789597|119.8441183|120.9038703| 32112797|    0.0|          1|\n",
            "|  4|  AAPL|2015-06-02 00:00:00| 129.96|130.655|129.32|129.86|33667627|119.7611812|  120.40164|119.1714063|119.6690289| 33667627|    0.0|          1|\n",
            "+---+------+-------------------+-------+-------+------+------+--------+-----------+-----------+-----------+-----------+---------+-------+-----------+\n",
            "only showing top 5 rows\n",
            "\n",
            "+-------+------------------+------+------------------+------------------+------------------+------------------+--------------------+-----------------+------------------+------------------+------------------+--------------------+--------------------+-----------+\n",
            "|summary|               _c0|symbol|             close|              high|               low|              open|              volume|         adjClose|           adjHigh|            adjLow|           adjOpen|           adjVolume|             divCash|splitFactor|\n",
            "+-------+------------------+------+------------------+------------------+------------------+------------------+--------------------+-----------------+------------------+------------------+------------------+--------------------+--------------------+-----------+\n",
            "|  count|              1258|  1258|              1258|              1258|              1258|              1258|                1258|             1258|              1258|              1258|              1258|                1258|                1258|       1258|\n",
            "|   mean|             628.5|  NULL|167.72399841017477|169.23047511923704|166.03978012718602|167.54826589825103| 3.500397141255962E7|162.6667146824089|164.49507888538014|161.66816761306524|162.88824147365918| 3.500397141255962E7|0.010476947535771065|        1.0|\n",
            "| stddev|363.29762821503067|  NULL| 56.85079637576295| 57.50012821042012|56.006773375093424|56.612706510014476|1.7290996134484537E7|58.73382042182581| 59.22669540819641| 57.54388633987414| 58.29825479464099|1.7290996134484537E7| 0.08336553314965245|        0.0|\n",
            "|    min|                 0|  AAPL|             90.34|             91.67|             89.47|              90.0|            11362045|      84.95435079|       86.20506239|          84.63462|          84.63462|            11362045|                 0.0|          1|\n",
            "|    max|              1257|  AAPL|             327.2|            327.85|            323.35|            324.73|           162206292|      326.3371475|       326.3570947|       322.4973002|        323.873661|           162206292|                0.82|          1|\n",
            "+-------+------------------+------+------------------+------------------+------------------+------------------+--------------------+-----------------+------------------+------------------+------------------+--------------------+--------------------+-----------+\n",
            "\n"
          ]
        }
      ]
    },
    {
      "cell_type": "code",
      "source": [
        "df.groupBy(\"symbol\").count().show()\n",
        "\n",
        "\n",
        "from pyspark.ml.feature import StringIndexer\n",
        "\n",
        "indexer = StringIndexer(inputCol=\"symbol\", outputCol=\"symbol_index\")\n",
        "indexed_df = indexer.fit(df).transform(df)\n"
      ],
      "metadata": {
        "colab": {
          "base_uri": "https://localhost:8080/"
        },
        "id": "4zM2cfIuYGlA",
        "outputId": "82f8f4e5-2e03-42c2-cdc8-40a3d02f8e2c"
      },
      "execution_count": null,
      "outputs": [
        {
          "output_type": "stream",
          "name": "stdout",
          "text": [
            "+------+-----+\n",
            "|symbol|count|\n",
            "+------+-----+\n",
            "|  AAPL| 1258|\n",
            "+------+-----+\n",
            "\n"
          ]
        }
      ]
    },
    {
      "cell_type": "code",
      "source": [
        "from pyspark.sql import SparkSession\n",
        "from pyspark.sql.functions import mean, expr  # Import expr here\n",
        "\n",
        "# Create a Spark session\n",
        "spark = SparkSession.builder.appName(\"MLExample\").getOrCreate()\n",
        "\n",
        "# Load your data into a Spark DataFrame\n",
        "df = spark.read.csv('/content/bda.csv', header=True, inferSchema=True)\n",
        "\n",
        "# Fill missing values with the mean for specific columns\n",
        "mean_value = df.select(mean(df['adjHigh'])).collect()[0][0]\n",
        "df = df.na.fill(mean_value, subset=['adjHigh'])\n",
        "\n",
        "mean_value1 = df.select(mean(df['adjLow'])).collect()[0][0]\n",
        "df = df.na.fill(mean_value1, subset=['adjLow'])\n",
        "\n",
        "mean_value2 = df.select(mean(df['adjOpen'])).collect()[0][0]\n",
        "df = df.na.fill(mean_value2, subset=['adjOpen'])\n",
        "\n",
        "# Calculate lower and upper bounds for outlier detection\n",
        "def calculate_bounds(df, col_name, lower_bound_factor=1.5, upper_bound_factor=1.5):\n",
        "    q1, q3 = df.approxQuantile(col_name, [0.25, 0.75], 0.01)\n",
        "    iqr = q3 - q1\n",
        "    lower_bound = q1 - (lower_bound_factor * iqr)\n",
        "    upper_bound = q3 + (upper_bound_factor * iqr)\n",
        "    return lower_bound, upper_bound\n",
        "\n",
        "columns_to_check = [\"close\", \"high\", \"low\", \"open\", \"volume\", \"adjClose\", \"adjHigh\", \"adjLow\", \"adjOpen\", \"adjVolume\"]\n",
        "\n",
        "for col_name in columns_to_check:\n",
        "    lower_bound, upper_bound = calculate_bounds(df, col_name)\n",
        "    df = df.withColumn(col_name + \"_outlier\", expr(f\"{col_name} < {lower_bound} OR {col_name} > {upper_bound}\"))\n",
        "\n",
        "# Show records where 'close' is an outlier\n",
        "df.filter(\"close_outlier = true\").show()\n"
      ],
      "metadata": {
        "colab": {
          "base_uri": "https://localhost:8080/"
        },
        "id": "UOQh31bQYJJh",
        "outputId": "6da8270f-2286-4783-9293-10634137a855"
      },
      "execution_count": null,
      "outputs": [
        {
          "output_type": "stream",
          "name": "stdout",
          "text": [
            "+----+------+-------------------+------+------+--------+--------+--------+-----------+-----------+-----------+-----------+---------+-------+-----------+-------------+------------+-----------+------------+--------------+----------------+---------------+--------------+---------------+-----------------+\n",
            "| _c0|symbol|               date| close|  high|     low|    open|  volume|   adjClose|    adjHigh|     adjLow|    adjOpen|adjVolume|divCash|splitFactor|close_outlier|high_outlier|low_outlier|open_outlier|volume_outlier|adjClose_outlier|adjHigh_outlier|adjLow_outlier|adjOpen_outlier|adjVolume_outlier|\n",
            "+----+------+-------------------+------+------+--------+--------+--------+-----------+-----------+-----------+-----------+---------+-------+-----------+-------------+------------+-----------+------------+--------------+----------------+---------------+--------------+---------------+-----------------+\n",
            "|1177|  AAPL|2020-01-29 00:00:00|324.34|327.85|  321.38|  324.45|54149928|322.7082456|326.2005868|319.7631373|322.8176922| 54149928|    0.0|          1|         true|        true|       true|        true|         false|           false|          false|          true|          false|            false|\n",
            "|1178|  AAPL|2020-01-30 00:00:00|323.87|324.09|  318.75|320.5435|31685808|322.2406101|322.4595033|317.1463689|318.9308458| 31685808|    0.0|          1|         true|        true|       true|       false|         false|           false|          false|         false|          false|            false|\n",
            "|1183|  AAPL|2020-02-06 00:00:00|325.21|325.22|320.2648|  322.57|26356385|323.5738686|323.5838183|318.6535479|320.9471504| 26356385|    0.0|          1|         true|        true|       true|        true|         false|           false|          false|          true|          false|            false|\n",
            "|1185|  AAPL|2020-02-10 00:00:00|321.55|321.55|  313.85|  314.18|27337215| 320.702047| 320.702047|313.0223525|313.3514822| 27337215|    0.0|          1|         true|       false|      false|       false|         false|           false|          false|         false|          false|            false|\n",
            "|1187|  AAPL|2020-02-12 00:00:00| 327.2|327.22|  321.47|  321.47|28432573|326.3371475|326.3570947|320.6222579|320.6222579| 28432573|    0.0|          1|         true|        true|       true|        true|         false|            true|          false|          true|          false|            false|\n",
            "|1188|  AAPL|2020-02-13 00:00:00|324.87|326.22|  323.35|  324.19|23686892|324.0132918|325.3597318|322.4973002|323.3350851| 23686892|    0.0|          1|         true|        true|       true|        true|         false|           false|          false|          true|          false|            false|\n",
            "|1189|  AAPL|2020-02-14 00:00:00|324.95|325.98|  322.85|  324.73|20028447|324.0930809|325.1203647|321.9986187| 323.873661| 20028447|    0.0|          1|         true|        true|       true|        true|         false|           false|          false|          true|           true|            false|\n",
            "|1191|  AAPL|2020-02-19 00:00:00|323.62|324.57|   320.0|   320.0|23495991|322.7665882| 323.714083|319.1561344|319.1561344| 23495991|    0.0|          1|         true|        true|       true|       false|         false|           false|          false|          true|          false|            false|\n",
            "+----+------+-------------------+------+------+--------+--------+--------+-----------+-----------+-----------+-----------+---------+-------+-----------+-------------+------------+-----------+------------+--------------+----------------+---------------+--------------+---------------+-----------------+\n",
            "\n"
          ]
        }
      ]
    },
    {
      "cell_type": "code",
      "source": [
        "filtered_df = df.filter(\"close_outlier = false AND high_outlier = false AND low_outlier = false AND open_outlier = false\")\n"
      ],
      "metadata": {
        "id": "l5FYa9RoYLQu"
      },
      "execution_count": null,
      "outputs": []
    },
    {
      "cell_type": "code",
      "source": [
        "from pyspark.sql.functions import log\n",
        "\n",
        "transformed_df = df.withColumn(\"log_close\", log(df[\"close\"]))\n",
        "transformed_df.show()"
      ],
      "metadata": {
        "colab": {
          "base_uri": "https://localhost:8080/"
        },
        "id": "n3z-3uLBYNwS",
        "outputId": "9797c711-c1b0-4062-d8bf-d41934a55eea"
      },
      "execution_count": null,
      "outputs": [
        {
          "output_type": "stream",
          "name": "stdout",
          "text": [
            "+---+------+-------------------+-------+-------+--------+-------+--------+-----------+-----------+-----------+-----------+---------+-------+-----------+-------------+------------+-----------+------------+--------------+----------------+---------------+--------------+---------------+-----------------+------------------+\n",
            "|_c0|symbol|               date|  close|   high|     low|   open|  volume|   adjClose|    adjHigh|     adjLow|    adjOpen|adjVolume|divCash|splitFactor|close_outlier|high_outlier|low_outlier|open_outlier|volume_outlier|adjClose_outlier|adjHigh_outlier|adjLow_outlier|adjOpen_outlier|adjVolume_outlier|         log_close|\n",
            "+---+------+-------------------+-------+-------+--------+-------+--------+-----------+-----------+-----------+-----------+---------+-------+-----------+-------------+------------+-----------+------------+--------------+----------------+---------------+--------------+---------------+-----------------+------------------+\n",
            "|  0|  AAPL|2015-05-27 00:00:00|132.045| 132.26|  130.05| 130.34|45833246|121.6825575|121.8806851|119.8441183|120.1113601| 45833246|    0.0|          1|        false|       false|      false|       false|         false|           false|          false|         false|          false|            false| 4.883142773580979|\n",
            "|  1|  AAPL|2015-05-28 00:00:00| 131.78| 131.95|   131.1| 131.86|30733309|121.4383538|121.5950128|120.8117179|121.5120757| 30733309|    0.0|          1|        false|       false|      false|       false|         false|           false|          false|         false|          false|            false|4.8811338654856735|\n",
            "|  2|  AAPL|2015-05-29 00:00:00| 130.28| 131.45|   129.9| 131.23|50884452|120.0560687|121.1342511|119.7058898| 120.931516| 50884452|    0.0|          1|        false|       false|      false|       false|         false|           false|          false|         false|          false|            false| 4.869685980408033|\n",
            "|  3|  AAPL|2015-06-01 00:00:00|130.535| 131.39|  130.05|  131.2|32112797|120.2910572|121.0789597|119.8441183|120.9038703| 32112797|    0.0|          1|        false|       false|      false|       false|         false|           false|          false|         false|          false|            false| 4.871641390037479|\n",
            "|  4|  AAPL|2015-06-02 00:00:00| 129.96|130.655|  129.32| 129.86|33667627|119.7611812|  120.40164|119.1714063|119.6690289| 33667627|    0.0|          1|        false|       false|      false|       false|         false|           false|          false|         false|          false|            false|4.8672267108008995|\n",
            "|  5|  AAPL|2015-06-03 00:00:00| 130.12| 130.94|   129.9| 130.66|30983542| 119.908625|120.6642742|119.7058898|120.4062476| 30983542|    0.0|          1|        false|       false|      false|       false|         false|           false|          false|         false|          false|            false|  4.86845710160515|\n",
            "|  6|  AAPL|2015-06-04 00:00:00| 129.36| 130.58|  128.91| 129.58|38450118|119.2082672|120.3325257|118.7935817|119.4110023| 38450118|    0.0|          1|        false|       false|      false|       false|         false|           false|          false|         false|          false|            false| 4.862599215268851|\n",
            "|  7|  AAPL|2015-06-05 00:00:00| 128.65| 129.69|  128.36|  129.5|35626800|118.5539856|119.5123699|118.2867438|119.3372805| 35626800|    0.0|          1|        false|       false|      false|       false|         false|           false|          false|         false|          false|            false| 4.857095538727753|\n",
            "|  8|  AAPL|2015-06-08 00:00:00|  127.8| 129.21|  126.83|  128.9|52674786|117.7706907|119.0700387| 116.876813|118.7843664| 52674786|    0.0|          1|        false|       false|      false|       false|         false|           false|          false|         false|          false|            false| 4.850466541943434|\n",
            "|  9|  AAPL|2015-06-09 00:00:00| 127.42| 128.08|  125.62|  126.7|56075420|117.4205118|118.0287172|115.7617697| 116.757015| 56075420|    0.0|          1|        false|       false|      false|       false|         false|           false|          false|         false|          false|            false| 4.847488716688342|\n",
            "| 10|  AAPL|2015-06-10 00:00:00| 128.88| 129.34|  127.85| 127.92|39087250| 118.765936|119.1898367|117.8167669|117.8812735| 39087250|    0.0|          1|        false|       false|      false|       false|         false|           false|          false|         false|          false|            false| 4.858881738868719|\n",
            "| 11|  AAPL|2015-06-11 00:00:00| 128.59| 130.18| 128.475| 129.18|35390887|118.4986942|119.9639164| 118.392719| 119.042393| 35390887|    0.0|          1|        false|       false|      false|       false|         false|           false|          false|         false|          false|            false| 4.856629048282348|\n",
            "| 12|  AAPL|2015-06-12 00:00:00| 127.17| 128.33|  127.11|128.185|36886246|117.1901309|118.2590981|117.1348395|118.1254772| 36886246|    0.0|          1|        false|       false|      false|       false|         false|           false|          false|         false|          false|            false| 4.845524774032656|\n",
            "| 13|  AAPL|2015-06-15 00:00:00| 126.92| 127.24|  125.71|  126.1|43988946|116.9597501|117.2546376|115.8447068|116.2041009| 43988946|    0.0|          1|        false|       false|      false|       false|         false|           false|          false|         false|          false|            false| 4.843556966714995|\n",
            "| 14|  AAPL|2015-06-16 00:00:00|  127.6| 127.85|  126.37| 127.03|31494131| 117.586386|117.8167669|116.4529122|117.0611177| 31494131|    0.0|          1|        false|       false|      false|       false|         false|           false|          false|         false|          false|            false| 4.848900370910689|\n",
            "| 15|  AAPL|2015-06-17 00:00:00|  127.3| 127.88|  126.74| 127.72|32918071| 117.309929|117.8444126|116.7938759|117.6969688| 32918071|    0.0|          1|        false|       false|      false|       false|         false|           false|          false|         false|          false|            false| 4.846546505563361|\n",
            "| 16|  AAPL|2015-06-18 00:00:00| 127.88| 128.31|  127.22| 127.23|35407220|117.8444126|118.2406676|117.2362071|117.2454224| 35407220|    0.0|          1|        false|       false|      false|       false|         false|           false|          false|         false|          false|            false| 4.851092324191641|\n",
            "| 17|  AAPL|2015-06-19 00:00:00|  126.6| 127.82|   126.4| 127.71|54716887|116.6648626|117.7891212|116.4805579|117.6877536| 54716887|    0.0|          1|        false|       false|      false|       false|         false|           false|          false|         false|          false|            false| 4.841032509710076|\n",
            "| 18|  AAPL|2015-06-22 00:00:00| 127.61| 128.06|  127.08| 127.49|34039345|117.5956012|118.0102868|117.1071938|117.4850184| 34039345|    0.0|          1|        false|       false|      false|       false|         false|           false|          false|         false|          false|            false| 4.848978737745885|\n",
            "| 19|  AAPL|2015-06-23 00:00:00| 127.03| 127.61|126.8792| 127.48|30268863|117.0611177|117.5956012|116.9221519|117.4758032| 30268863|    0.0|          1|        false|       false|      false|       false|         false|           false|          false|         false|          false|            false| 4.844423279035369|\n",
            "+---+------+-------------------+-------+-------+--------+-------+--------+-----------+-----------+-----------+-----------+---------+-------+-----------+-------------+------------+-----------+------------+--------------+----------------+---------------+--------------+---------------+-----------------+------------------+\n",
            "only showing top 20 rows\n",
            "\n"
          ]
        }
      ]
    },
    {
      "cell_type": "code",
      "source": [
        "#FEACTURE SCALING MINMAX\n",
        "\n",
        "from pyspark.ml.feature import VectorAssembler, StandardScaler\n",
        "\n",
        "\n",
        "assembler = VectorAssembler(inputCols=[\"close\"], outputCol=\"close_vector\")\n",
        "vectorized_df = assembler.transform(df)\n",
        "\n",
        "scaler = StandardScaler(inputCol=\"close_vector\", outputCol=\"scaled_features_scale\", withStd=True, withMean=True)\n",
        "scaled_df = scaler.fit(vectorized_df).transform(vectorized_df)\n"
      ],
      "metadata": {
        "id": "LqzLmMBaYQd0"
      },
      "execution_count": null,
      "outputs": []
    },
    {
      "cell_type": "code",
      "source": [
        "\n",
        "split_ratio = [0.7, 0.3]\n",
        "\n",
        "\n",
        "\n",
        "train_df, test_df = df.randomSplit(split_ratio)\n"
      ],
      "metadata": {
        "id": "zeRTJpTuYSrm"
      },
      "execution_count": null,
      "outputs": []
    },
    {
      "cell_type": "code",
      "source": [
        "#LINEAR REGRESSION\n",
        "\n",
        "from pyspark.ml.feature import VectorAssembler\n",
        "from pyspark.ml.regression import LinearRegression\n",
        "from pyspark.ml.evaluation import RegressionEvaluator\n",
        "\n",
        "feature_cols = [\n",
        "    'close',\n",
        "    'high',\n",
        "    'low',\n",
        "    'open',\n",
        "    'volume',\n",
        "    'adjClose',\n",
        "    'adjHigh',\n",
        "    'adjLow',\n",
        "    'adjOpen',\n",
        "    'adjVolume',\n",
        "    'divCash',\n",
        "    'splitFactor'\n",
        "]\n",
        "\n",
        "vector_assembler = VectorAssembler(inputCols=feature_cols, outputCol=\"features\")\n",
        "train_df = vector_assembler.transform(train_df)\n",
        "test_df = vector_assembler.transform(test_df)\n",
        "\n",
        "lr = LinearRegression(featuresCol=\"features\", labelCol=\"close\")\n",
        "\n",
        "\n",
        "lr_model = lr.fit(train_df)\n",
        "\n",
        "\n",
        "predictions = lr_model.transform(test_df)\n",
        "\n",
        "\n",
        "evaluator = RegressionEvaluator(labelCol=\"close\", predictionCol=\"prediction\", metricName=\"rmse\")\n",
        "rmse = evaluator.evaluate(predictions)\n",
        "\n",
        "print(f\"Root Mean Squared Error (RMSE): {rmse}\")\n"
      ],
      "metadata": {
        "colab": {
          "base_uri": "https://localhost:8080/"
        },
        "id": "ErzKptb1YUtq",
        "outputId": "3a184cfb-835b-4604-c416-bde75d22df13"
      },
      "execution_count": null,
      "outputs": [
        {
          "output_type": "stream",
          "name": "stdout",
          "text": [
            "Root Mean Squared Error (RMSE): 0.15913291041736546\n"
          ]
        }
      ]
    },
    {
      "cell_type": "code",
      "source": [
        "#PIPELINE(LINEAR REGRESSION)\n",
        "\n",
        "from pyspark.ml import Pipeline\n",
        "from pyspark.ml.feature import VectorAssembler, StandardScaler\n",
        "from pyspark.ml.regression import LinearRegression\n",
        "from pyspark.ml.evaluation import RegressionEvaluator\n",
        "\n",
        "\n",
        "feature_cols = [\"high\", \"low\", \"open\", \"volume\", \"adjClose\", \"adjHigh\", \"adjLow\", \"adjOpen\", \"adjVolume\"]\n",
        "\n",
        "# Define the target column\n",
        "target_col = \"close\"\n",
        "\n",
        "\n",
        "\n",
        "vector_assembler = VectorAssembler(inputCols=feature_cols, outputCol=\"features\")\n",
        "\n",
        "\n",
        "scaler = StandardScaler(inputCol=\"features\", outputCol=\"scaled_features\", withStd=True, withMean=True)\n",
        "\n",
        "\n",
        "lr = LinearRegression(featuresCol=\"scaled_features\", labelCol=target_col)\n",
        "\n",
        "evaluator = RegressionEvaluator(labelCol=target_col, predictionCol=\"prediction\", metricName=\"rmse\")\n",
        "\n",
        "pipeline = Pipeline(stages=[vector_assembler, scaler, lr])\n",
        "\n",
        "train_df, test_df = df.randomSplit([0.7, 0.3], seed=42)\n",
        "\n",
        "\n",
        "pipeline_model = pipeline.fit(train_df)\n",
        "\n",
        "\n",
        "predictions = pipeline_model.transform(test_df)\n",
        "\n",
        "\n",
        "rmse = evaluator.evaluate(predictions)\n",
        "print(f\"Root Mean Squared Error (RMSE): {rmse}\")\n",
        "\n",
        "\n"
      ],
      "metadata": {
        "colab": {
          "base_uri": "https://localhost:8080/"
        },
        "id": "eo2YPljhYW6P",
        "outputId": "adef412d-4bdc-4c59-e7d0-ddf500644912"
      },
      "execution_count": null,
      "outputs": [
        {
          "output_type": "stream",
          "name": "stdout",
          "text": [
            "Root Mean Squared Error (RMSE): 0.8828016353667498\n"
          ]
        }
      ]
    },
    {
      "cell_type": "code",
      "source": [
        "#PIPELINE(RANDOM FOREST)\n",
        "from pyspark.sql import SparkSession\n",
        "from pyspark.ml import Pipeline\n",
        "from pyspark.ml.feature import VectorAssembler\n",
        "from pyspark.ml.regression import RandomForestRegressor\n",
        "from pyspark.ml.evaluation import RegressionEvaluator\n",
        "\n",
        "\n",
        "spark = SparkSession.builder.appName(\"RandomForestRegressionExample\").getOrCreate()\n",
        "\n",
        "\n",
        "feature_cols = [\"high\", \"low\", \"open\", \"volume\", \"adjClose\", \"adjHigh\", \"adjLow\", \"adjOpen\", \"adjVolume\"]\n",
        "\n",
        "target_col = \"close\"\n",
        "\n",
        "vector_assembler = VectorAssembler(inputCols=feature_cols, outputCol=\"features\")\n",
        "\n",
        "\n",
        "rf = RandomForestRegressor(featuresCol=\"features\", labelCol=target_col, numTrees=100, maxDepth=5)\n",
        "\n",
        "\n",
        "evaluator = RegressionEvaluator(labelCol=target_col, predictionCol=\"prediction\", metricName=\"rmse\")\n",
        "\n",
        "\n",
        "pipeline = Pipeline(stages=[vector_assembler, rf])\n",
        "\n",
        "\n",
        "train_df, test_df = df.randomSplit([0.7, 0.3], seed=42)\n",
        "\n",
        "\n",
        "pipeline_model = pipeline.fit(train_df)\n",
        "\n",
        "predictions = pipeline_model.transform(test_df)\n",
        "\n",
        "rmse = evaluator.evaluate(predictions)\n",
        "print(f\"Root Mean Squared Error (RMSE): {rmse}\")\n",
        "\n",
        "\n"
      ],
      "metadata": {
        "colab": {
          "base_uri": "https://localhost:8080/"
        },
        "id": "6SlE40-yYawF",
        "outputId": "e242fc88-b4e9-466e-b47e-44f72ecb4d37"
      },
      "execution_count": null,
      "outputs": [
        {
          "output_type": "stream",
          "name": "stdout",
          "text": [
            "Root Mean Squared Error (RMSE): 2.5706480673233862\n"
          ]
        }
      ]
    },
    {
      "cell_type": "code",
      "source": [
        "from pyspark.sql import SparkSession\n",
        "from pyspark.ml import Pipeline\n",
        "from pyspark.ml.feature import VectorAssembler\n",
        "from pyspark.ml.regression import DecisionTreeRegressor\n",
        "from pyspark.ml.evaluation import RegressionEvaluator\n",
        "\n",
        "spark = SparkSession.builder.appName(\"DecisionTreeRegressionExample\").getOrCreate()\n",
        "\n",
        "feature_cols = [\"high\", \"low\", \"open\", \"volume\", \"adjClose\", \"adjHigh\", \"adjLow\", \"adjOpen\", \"adjVolume\"]\n",
        "target_col = \"close\"\n",
        "\n",
        "# Define a Vector Assembler to combine features\n",
        "vector_assembler = VectorAssembler(inputCols=feature_cols, outputCol=\"features\")\n",
        "\n",
        "# Create a Decision Tree Regressor\n",
        "dt = DecisionTreeRegressor(featuresCol=\"features\", labelCol=target_col, maxDepth=5)\n",
        "\n",
        "# Create a Regression Evaluator\n",
        "evaluator = RegressionEvaluator(labelCol=target_col, predictionCol=\"prediction\", metricName=\"rmse\")\n",
        "\n",
        "# Create a pipeline\n",
        "pipeline = Pipeline(stages=[vector_assembler, dt])\n",
        "\n",
        "# Split the data into training and testing sets\n",
        "train_df, test_df = df.randomSplit([0.7, 0.3], seed=42)\n",
        "\n",
        "# Fit the pipeline on the training data\n",
        "pipeline_model = pipeline.fit(train_df)\n",
        "\n",
        "# Make predictions on the test data\n",
        "predictions = pipeline_model.transform(test_df)\n",
        "\n",
        "# Evaluate the model\n",
        "rmse = evaluator.evaluate(predictions)\n",
        "print(f\"Root Mean Squared Error (RMSE): {rmse}\")\n"
      ],
      "metadata": {
        "colab": {
          "base_uri": "https://localhost:8080/"
        },
        "id": "uIyYTtGqYogv",
        "outputId": "197210c8-e886-49b8-bff2-b22559302b2c"
      },
      "execution_count": null,
      "outputs": [
        {
          "output_type": "stream",
          "name": "stdout",
          "text": [
            "Root Mean Squared Error (RMSE): 3.287771252662108\n"
          ]
        }
      ]
    },
    {
      "cell_type": "code",
      "source": [
        "from pyspark.sql import SparkSession\n",
        "from pyspark.ml import Pipeline\n",
        "from pyspark.ml.feature import VectorAssembler\n",
        "from pyspark.ml.regression import GBTRegressor\n",
        "from pyspark.ml.evaluation import RegressionEvaluator\n",
        "\n",
        "# Create a Spark session\n",
        "spark = SparkSession.builder.appName(\"GBTRegressionExample\").getOrCreate()\n",
        "\n",
        "# Define your feature columns and target column\n",
        "feature_cols = [\"high\", \"low\", \"open\", \"volume\", \"adjClose\", \"adjHigh\", \"adjLow\", \"adjOpen\", \"adjVolume\"]\n",
        "target_col = \"close\"\n",
        "\n",
        "# Define a Vector Assembler to combine features\n",
        "vector_assembler = VectorAssembler(inputCols=feature_cols, outputCol=\"features\")\n",
        "\n",
        "# Create a Gradient Boosting Regressor\n",
        "gbt = GBTRegressor(featuresCol=\"features\", labelCol=target_col, maxIter=10, maxDepth=5)\n",
        "\n",
        "# Create a Regression Evaluator\n",
        "evaluator = RegressionEvaluator(labelCol=target_col, predictionCol=\"prediction\", metricName=\"rmse\")\n",
        "\n",
        "# Create a pipeline\n",
        "pipeline = Pipeline(stages=[vector_assembler, gbt])\n",
        "\n",
        "# Split the data into training and testing sets\n",
        "train_df, test_df = df.randomSplit([0.7, 0.3], seed=42)\n",
        "\n",
        "# Fit the pipeline on the training data\n",
        "pipeline_model = pipeline.fit(train_df)\n",
        "\n",
        "# Make predictions on the test data\n",
        "predictions = pipeline_model.transform(test_df)\n",
        "\n",
        "# Evaluate the model\n",
        "rmse = evaluator.evaluate(predictions)\n",
        "print(f\"Root Mean Squared Error (RMSE): {rmse}\")\n"
      ],
      "metadata": {
        "colab": {
          "base_uri": "https://localhost:8080/"
        },
        "id": "kR878UKsYy7f",
        "outputId": "20ba8e73-86c3-4e71-e088-894d3d923a88"
      },
      "execution_count": null,
      "outputs": [
        {
          "output_type": "stream",
          "name": "stdout",
          "text": [
            "Root Mean Squared Error (RMSE): 3.190177331383979\n"
          ]
        }
      ]
    },
    {
      "cell_type": "code",
      "source": [
        "#LINEAR REGRESSION(HYPERPARAMETER)\n",
        "from pyspark.sql import SparkSession\n",
        "from pyspark.ml.regression import LinearRegression\n",
        "from pyspark.ml.tuning import ParamGridBuilder, CrossValidator\n",
        "from pyspark.ml.evaluation import RegressionEvaluator\n",
        "from pyspark.ml.feature import VectorAssembler\n",
        "\n",
        "# Create a Spark session\n",
        "spark = SparkSession.builder.appName(\"LinearRegressionHyperparameterTuning\").getOrCreate()\n",
        "\n",
        "# Load your data into a Spark DataFrame\n",
        "df = spark.read.csv('/content/bda.csv', header=True, inferSchema=True)\n",
        "\n",
        "# Define your feature columns\n",
        "feature_cols = [\"high\", \"low\", \"open\", \"volume\", \"adjClose\", \"adjHigh\", \"adjLow\", \"adjOpen\", \"adjVolume\"]\n",
        "\n",
        "# Define your target column\n",
        "target_col = \"close\"\n",
        "\n",
        "# Create a VectorAssembler to assemble features with 'handleInvalid' set to 'skip'\n",
        "vector_assembler = VectorAssembler(inputCols=feature_cols, outputCol=\"features\", handleInvalid=\"skip\")\n",
        "\n",
        "# Transform the DataFrame with the VectorAssembler\n",
        "df = vector_assembler.transform(df)\n",
        "\n",
        "# Create a LinearRegression instance\n",
        "lr = LinearRegression(labelCol=target_col, featuresCol=\"features\")\n",
        "\n",
        "# Define a grid of hyperparameters to search\n",
        "param_grid = ParamGridBuilder() \\\n",
        "    .addGrid(lr.regParam, [0.01, 0.1, 1.0]) \\\n",
        "    .addGrid(lr.elasticNetParam, [0.0, 0.5, 1.0]) \\\n",
        "    .build()\n",
        "\n",
        "# Create a CrossValidator with a RegressionEvaluator\n",
        "evaluator = RegressionEvaluator(labelCol=target_col, predictionCol=\"prediction\", metricName=\"rmse\")\n",
        "\n",
        "crossval = CrossValidator(\n",
        "    estimator=lr,\n",
        "    estimatorParamMaps=param_grid,\n",
        "    evaluator=evaluator,\n",
        "    numFolds=5\n",
        ")\n",
        "\n",
        "# Split the data into a training set and a test set\n",
        "train_df, test_df = df.randomSplit([0.7, 0.3], seed=42)\n",
        "\n",
        "# Fit the cross-validation model\n",
        "cv_model = crossval.fit(train_df)\n",
        "\n",
        "# Evaluate the best model on the test set\n",
        "best_model = cv_model.bestModel\n",
        "predictions = best_model.transform(test_df)\n",
        "rmse = evaluator.evaluate(predictions)\n",
        "\n",
        "# Print the best hyperparameters and RMSE\n",
        "print(\"Best hyperparameters:\")\n",
        "print(f\"RegParam: {best_model.getRegParam()}\")\n",
        "print(f\"ElasticNetParam: {best_model.getElasticNetParam()}\")\n",
        "print(f\"Root Mean Squared Error (RMSE): {rmse}\")\n",
        "\n",
        "# Stop the Spark session\n",
        "spark.stop()\n"
      ],
      "metadata": {
        "colab": {
          "base_uri": "https://localhost:8080/"
        },
        "id": "02rvrx99Z7Os",
        "outputId": "564687f0-9254-452e-9040-362d0ea16602"
      },
      "execution_count": null,
      "outputs": [
        {
          "output_type": "stream",
          "name": "stdout",
          "text": [
            "Best hyperparameters:\n",
            "RegParam: 0.01\n",
            "ElasticNetParam: 0.0\n",
            "Root Mean Squared Error (RMSE): 0.4101403839042678\n"
          ]
        }
      ]
    },
    {
      "cell_type": "code",
      "source": [
        "#RANDOM FOREST(HYPERPARAMETER)\n",
        "from pyspark.sql import SparkSession\n",
        "from pyspark.ml.regression import RandomForestRegressor\n",
        "from pyspark.ml.tuning import ParamGridBuilder, CrossValidator\n",
        "from pyspark.ml.evaluation import RegressionEvaluator\n",
        "from pyspark.ml.feature import VectorAssembler\n",
        "\n",
        "# Create a Spark session\n",
        "spark = SparkSession.builder.appName(\"RandomForestHyperparameterTuning\").getOrCreate()\n",
        "\n",
        "# Load your data into a Spark DataFrame\n",
        "df = spark.read.csv('/content/bda.csv', header=True, inferSchema=True)\n",
        "\n",
        "# Define your feature columns\n",
        "feature_cols = [\"high\", \"low\", \"open\", \"volume\", \"adjClose\", \"adjHigh\", \"adjLow\", \"adjOpen\", \"adjVolume\"]\n",
        "\n",
        "# Define your target column\n",
        "target_col = \"close\"\n",
        "\n",
        "# Create a VectorAssembler to assemble features with 'handleInvalid' set to 'skip'\n",
        "vector_assembler = VectorAssembler(inputCols=feature_cols, outputCol=\"features\", handleInvalid=\"skip\")\n",
        "\n",
        "# Transform the DataFrame with the VectorAssembler\n",
        "df = vector_assembler.transform(df)\n",
        "\n",
        "# Create a RandomForestRegressor instance\n",
        "rf = RandomForestRegressor(labelCol=target_col, featuresCol=\"features\")\n",
        "\n",
        "# Define a grid of hyperparameters to search\n",
        "param_grid = ParamGridBuilder() \\\n",
        "    .addGrid(rf.numTrees, [10, 50, 100]) \\\n",
        "    .addGrid(rf.maxDepth, [5, 10, 15]) \\\n",
        "    .build()\n",
        "\n",
        "# Create a CrossValidator with a RegressionEvaluator\n",
        "evaluator = RegressionEvaluator(labelCol=target_col, predictionCol=\"prediction\", metricName=\"rmse\")\n",
        "\n",
        "crossval = CrossValidator(\n",
        "    estimator=rf,\n",
        "    estimatorParamMaps=param_grid,\n",
        "    evaluator=evaluator,\n",
        "    numFolds=5  # You can adjust the number of folds for cross-validation\n",
        ")\n",
        "\n",
        "# Split the data into a training set and a test set\n",
        "train_df, test_df = df.randomSplit([0.7, 0.3], seed=42)\n",
        "\n",
        "# Fit the cross-validation model\n",
        "cv_model = crossval.fit(train_df)\n",
        "\n",
        "# Evaluate the best model on the test set\n",
        "best_model = cv_model.bestModel\n",
        "predictions = best_model.transform(test_df)\n",
        "rmse = evaluator.evaluate(predictions)\n",
        "\n",
        "# Print the best hyperparameters and RMSE\n",
        "print(\"Best hyperparameters:\")\n",
        "print(f\"Number of Trees: {best_model.getNumTrees}\")\n",
        "print(f\"Max Depth: {best_model.getMaxDepth}\")\n",
        "print(f\"Root Mean Squared Error (RMSE): {rmse}\")\n",
        "\n",
        "# Stop the Spark session\n",
        "spark.stop()\n"
      ],
      "metadata": {
        "colab": {
          "base_uri": "https://localhost:8080/"
        },
        "id": "d_VtyYc1aQIU",
        "outputId": "2b88b845-b983-480e-8ace-868a085bc3ff"
      },
      "execution_count": null,
      "outputs": [
        {
          "output_type": "stream",
          "name": "stdout",
          "text": [
            "Best hyperparameters:\n",
            "Number of Trees: 100\n",
            "Max Depth: <bound method _DecisionTreeParams.getMaxDepth of RandomForestRegressionModel: uid=RandomForestRegressor_4515283bb893, numTrees=100, numFeatures=9>\n",
            "Root Mean Squared Error (RMSE): 2.889455055455913\n"
          ]
        }
      ]
    },
    {
      "cell_type": "code",
      "source": [
        "from pyspark.sql import SparkSession\n",
        "from pyspark.ml.regression import DecisionTreeRegressor\n",
        "from pyspark.ml.tuning import ParamGridBuilder, CrossValidator\n",
        "from pyspark.ml.evaluation import RegressionEvaluator\n",
        "from pyspark.ml.feature import VectorAssembler\n",
        "\n",
        "# Create a Spark session\n",
        "spark = SparkSession.builder.appName(\"DecisionTreeHyperparameterTuning\").getOrCreate()\n",
        "\n",
        "# Load your data into a Spark DataFrame\n",
        "df = spark.read.csv('/content/bda.csv', header=True, inferSchema=True)\n",
        "\n",
        "# Define your feature columns\n",
        "feature_cols = [\"high\", \"low\", \"open\", \"volume\", \"adjClose\", \"adjHigh\", \"adjLow\", \"adjOpen\", \"adjVolume\"]\n",
        "\n",
        "# Define your target column\n",
        "target_col = \"close\"\n",
        "\n",
        "# Create a VectorAssembler to assemble features with 'handleInvalid' set to 'skip'\n",
        "vector_assembler = VectorAssembler(inputCols=feature_cols, outputCol=\"features\", handleInvalid=\"skip\")\n",
        "\n",
        "# Transform the DataFrame with the VectorAssembler\n",
        "df = vector_assembler.transform(df)\n",
        "\n",
        "# Create a DecisionTreeRegressor instance\n",
        "dt = DecisionTreeRegressor(labelCol=target_col, featuresCol=\"features\")\n",
        "\n",
        "# Define a grid of hyperparameters to search\n",
        "param_grid = ParamGridBuilder() \\\n",
        "    .addGrid(dt.maxDepth, [5, 10, 15]) \\\n",
        "    .build()\n",
        "\n",
        "# Create a CrossValidator with a RegressionEvaluator\n",
        "evaluator = RegressionEvaluator(labelCol=target_col, predictionCol=\"prediction\", metricName=\"rmse\")\n",
        "\n",
        "crossval = CrossValidator(\n",
        "    estimator=dt,\n",
        "    estimatorParamMaps=param_grid,\n",
        "    evaluator=evaluator,\n",
        "    numFolds=5  # You can adjust the number of folds for cross-validation\n",
        ")\n",
        "\n",
        "# Split the data into a training set and a test set\n",
        "train_df, test_df = df.randomSplit([0.7, 0.3], seed=42)\n",
        "\n",
        "# Fit the cross-validation model\n",
        "cv_model = crossval.fit(train_df)\n",
        "\n",
        "# Evaluate the best model on the test set\n",
        "best_model = cv_model.bestModel\n",
        "predictions = best_model.transform(test_df)\n",
        "rmse = evaluator.evaluate(predictions)\n",
        "\n",
        "# Print the best hyperparameters and RMSE\n",
        "print(\"Best hyperparameters:\")\n",
        "print(f\"Max Depth: {best_model.getMaxDepth}\")\n",
        "print(f\"Root Mean Squared Error (RMSE): {rmse}\")\n",
        "\n",
        "# Stop the Spark session\n",
        "spark.stop()\n"
      ],
      "metadata": {
        "colab": {
          "base_uri": "https://localhost:8080/"
        },
        "id": "ExFUU6_navCD",
        "outputId": "da78ddbb-b3ef-44d5-9de4-f3d21926f479"
      },
      "execution_count": null,
      "outputs": [
        {
          "output_type": "stream",
          "name": "stdout",
          "text": [
            "Best hyperparameters:\n",
            "Max Depth: <bound method _DecisionTreeParams.getMaxDepth of DecisionTreeRegressionModel: uid=DecisionTreeRegressor_a8d0c2ea5b89, depth=5, numNodes=63, numFeatures=9>\n",
            "Root Mean Squared Error (RMSE): 3.4064158544475234\n"
          ]
        }
      ]
    },
    {
      "cell_type": "code",
      "source": [
        "from pyspark.sql import SparkSession\n",
        "from pyspark.ml.regression import GBTRegressor\n",
        "from pyspark.ml.tuning import ParamGridBuilder, CrossValidator\n",
        "from pyspark.ml.evaluation import RegressionEvaluator\n",
        "from pyspark.ml.feature import VectorAssembler\n",
        "\n",
        "# Create a Spark session\n",
        "spark = SparkSession.builder.appName(\"GBTRegressorHyperparameterTuning\").getOrCreate()\n",
        "\n",
        "# Load your data into a Spark DataFrame\n",
        "df = spark.read.csv('/content/bda.csv', header=True, inferSchema=True)\n",
        "\n",
        "# Define your feature columns\n",
        "feature_cols = [\"high\", \"low\", \"open\", \"volume\", \"adjClose\", \"adjHigh\", \"adjLow\", \"adjOpen\", \"adjVolume\"]\n",
        "\n",
        "# Define your target column\n",
        "target_col = \"close\"\n",
        "\n",
        "# Create a VectorAssembler to assemble features with 'handleInvalid' set to 'skip'\n",
        "vector_assembler = VectorAssembler(inputCols=feature_cols, outputCol=\"features\", handleInvalid=\"skip\")\n",
        "\n",
        "# Transform the DataFrame with the VectorAssembler\n",
        "df = vector_assembler.transform(df)\n",
        "\n",
        "# Create a GBTRegressor instance\n",
        "gbt = GBTRegressor(labelCol=target_col, featuresCol=\"features\")\n",
        "\n",
        "# Define a grid of hyperparameters to search\n",
        "param_grid = ParamGridBuilder() \\\n",
        "    .addGrid(gbt.maxDepth, [5, 10, 15]) \\\n",
        "    .addGrid(gbt.maxIter, [10, 20, 30]) \\\n",
        "    .build()\n",
        "\n",
        "# Create a CrossValidator with a RegressionEvaluator\n",
        "evaluator = RegressionEvaluator(labelCol=target_col, predictionCol=\"prediction\", metricName=\"rmse\")\n",
        "\n",
        "crossval = CrossValidator(\n",
        "    estimator=gbt,\n",
        "    estimatorParamMaps=param_grid,\n",
        "    evaluator=evaluator,\n",
        "    numFolds=5  # You can adjust the number of folds for cross-validation\n",
        ")\n",
        "\n",
        "# Split the data into a training set and a test set\n",
        "train_df, test_df = df.randomSplit([0.7, 0.3], seed=42)\n",
        "\n",
        "# Fit the cross-validation model\n",
        "cv_model = crossval.fit(train_df)\n",
        "\n",
        "# Evaluate the best model on the test set\n",
        "best_model = cv_model.bestModel\n",
        "predictions = best_model.transform(test_df)\n",
        "rmse = evaluator.evaluate(predictions)\n",
        "\n",
        "# Print the best hyperparameters and RMSE\n",
        "print(\"Best hyperparameters:\")\n",
        "print(f\"Max Depth: {best_model.getMaxDepth}\")\n",
        "print(f\"Max Iterations: {best_model.getMaxIter}\")\n",
        "print(f\"Root Mean Squared Error (RMSE): {rmse}\")\n",
        "\n",
        "# Stop the Spark session\n",
        "spark.stop()\n"
      ],
      "metadata": {
        "colab": {
          "base_uri": "https://localhost:8080/"
        },
        "id": "umjjRePcbGPA",
        "outputId": "f35bda6e-5b6e-4776-eabd-e3bf0234ac9c"
      },
      "execution_count": null,
      "outputs": [
        {
          "output_type": "stream",
          "name": "stdout",
          "text": [
            "Best hyperparameters:\n",
            "Max Depth: <bound method _DecisionTreeParams.getMaxDepth of GBTRegressionModel: uid=GBTRegressor_b4a0016d353d, numTrees=10, numFeatures=9>\n",
            "Max Iterations: <bound method HasMaxIter.getMaxIter of GBTRegressionModel: uid=GBTRegressor_b4a0016d353d, numTrees=10, numFeatures=9>\n",
            "Root Mean Squared Error (RMSE): 3.398847260614405\n"
          ]
        }
      ]
    },
    {
      "cell_type": "code",
      "source": [],
      "metadata": {
        "id": "fOESVS9yb-p9"
      },
      "execution_count": 7,
      "outputs": []
    },
    {
      "cell_type": "code",
      "source": [],
      "metadata": {
        "id": "jqSzhKDfAFMa"
      },
      "execution_count": 7,
      "outputs": []
    },
    {
      "cell_type": "code",
      "source": [
        "import pandas as pd\n",
        "import matplotlib.pyplot as plt\n",
        "\n",
        "# Data in a dictionary format\n",
        "data = {\n",
        "    'Model': ['Linear Regression', 'Random Forest', 'Decision Tree', 'GBT Regressor'],\n",
        "    'RMSE': [0.8828016353667498, 2.5551702074453693, 3.287771252662108, 3.190177331383979],\n",
        "    'Scenario': ['Pipeline', 'Hyperparameter Tuning', 'Pipeline', 'Hyperparameter Tuning']\n",
        "}\n",
        "\n",
        "# Create a DataFrame\n",
        "df = pd.DataFrame(data)\n",
        "\n",
        "# Create a bar plot\n",
        "plt.figure(figsize=(12, 6))\n",
        "bars = plt.bar(df['Model'], df['RMSE'], color=['blue', 'green', 'red', 'orange'])\n",
        "plt.xlabel('Model')\n",
        "plt.ylabel('RMSE')\n",
        "plt.title('RMSE for Different Models and Scenarios')\n",
        "\n",
        "# Add RMSE values on the bars\n",
        "for bar, rmse in zip(bars, df['RMSE']):\n",
        "    plt.text(bar.get_x() + bar.get_width() / 2, bar.get_height() + 0.05, round(rmse, 2), ha='center')\n",
        "\n",
        "# Show the plot\n",
        "plt.xticks(rotation=45)\n",
        "plt.tight_layout()\n",
        "plt.show()\n"
      ],
      "metadata": {
        "colab": {
          "base_uri": "https://localhost:8080/",
          "height": 569
        },
        "id": "L5YNTUsVAW39",
        "outputId": "f454028e-a20b-40d4-ed83-0f14e40cc168"
      },
      "execution_count": 4,
      "outputs": [
        {
          "output_type": "display_data",
          "data": {
            "text/plain": [
              "<Figure size 1200x600 with 1 Axes>"
            ],
            "image/png": "[encoded data removed]"
          },
          "metadata": {}
        }
      ]
    },
    {
      "cell_type": "code",
      "source": [
        "import pandas as pd\n",
        "import matplotlib.pyplot as plt\n",
        "\n",
        "# Data in a dictionary format\n",
        "data = {\n",
        "    'Model': ['Linear Regression', 'Random Forest', 'Decision Tree', 'GBT Regressor'],\n",
        "    'RMSE': [0.8828016353667498, 2.5551702074453693, 3.287771252662108, 3.190177331383979],\n",
        "    'RMSE1': [0.4101403839042678, 2.3494646640449324, 3.2264158544475234, 3.1707238962119703]\n",
        "}\n",
        "\n",
        "# Add 'Pipeline' and 'Hyperparameter Tuning' for each model\n",
        "models = ['Pipeline', 'Hyperparameter Tuning']\n",
        "data['Model'] = [model for model in data['Model'] for _ in models]\n",
        "data['RMSE'] = [data['RMSE'][i // 2] for i in range(len(data['Model']))]\n",
        "data['RMSE1'] = [data['RMSE1'][i // 2] for i in range(len(data['Model']))]\n",
        "\n",
        "# Create a DataFrame\n",
        "df = pd.DataFrame(data)\n",
        "\n",
        "# Create two separate bar plots\n",
        "plt.figure(figsize=(12, 6))\n",
        "plt.subplot(1, 2, 1)\n",
        "bars = plt.bar(df['Model'], df['RMSE'])\n",
        "plt.xlabel('Model')\n",
        "plt.ylabel('RMSE')\n",
        "plt.title('RMSE for Different Models (Pipeline)')\n",
        "\n",
        "for bar, rmse in zip(bars, df['RMSE']):\n",
        "    plt.text(bar.get_x() + bar.get_width() / 2, bar.get_height() + 0.05, round(rmse, 2), ha='center')\n",
        "\n",
        "plt.subplot(1, 2, 2)\n",
        "bars = plt.bar(df['Model'], df['RMSE1'])\n",
        "plt.xlabel('Model')\n",
        "plt.ylabel('RMSE')\n",
        "plt.title('RMSE for Different Models (Hyperparameter Tuning)')\n",
        "\n",
        "for bar, rmse in zip(bars, df['RMSE1']):\n",
        "    plt.text(bar.get_x() + bar.get_width() / 2, bar.get_height() + 0.05, round(rmse, 2), ha='center')\n",
        "\n",
        "plt.xticks(rotation=45)\n",
        "plt.tight_layout()\n",
        "\n",
        "# Show the plots\n",
        "plt.show()\n"
      ],
      "metadata": {
        "colab": {
          "base_uri": "https://localhost:8080/",
          "height": 569
        },
        "id": "bjcT3_67AmuM",
        "outputId": "22d6bbff-af40-4a38-a1f2-6bb059c4f6bd"
      },
      "execution_count": 7,
      "outputs": [
        {
          "output_type": "display_data",
          "data": {
            "text/plain": [
              "<Figure size 1200x600 with 2 Axes>"
            ],
            "image/png": "[encoded data removed]"
          },
          "metadata": {}
        }
      ]
    },
    {
      "cell_type": "code",
      "source": [],
      "metadata": {
        "id": "vW6coSLNA-8s"
      },
      "execution_count": null,
      "outputs": []
    }
  ]
}